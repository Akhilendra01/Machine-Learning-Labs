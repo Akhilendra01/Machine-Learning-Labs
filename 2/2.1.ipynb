{
 "cells": [
  {
   "cell_type": "markdown",
   "metadata": {},
   "source": [
    "#### Machine Learning Lab 1\n",
    "#### Akhilendra Pratap 211112438"
   ]
  },
  {
   "cell_type": "code",
   "execution_count": 1,
   "metadata": {},
   "outputs": [],
   "source": [
    "import numpy as np\n",
    "import pandas as pd\n",
    "import matplotlib.pyplot as plt\n",
    "import math\n",
    "import os"
   ]
  },
  {
   "cell_type": "code",
   "execution_count": 5,
   "metadata": {},
   "outputs": [],
   "source": [
    "train_dirs=[]\n",
    "test_dirs=[]\n",
    "for dir in os.listdir(\"./\"):\n",
    "    if(dir.find(\"5-fold\")!=-1):\n",
    "        train_dirs.append(\"./\"+dir+\"/train/\")\n",
    "        test_dirs.append(\"./\"+dir+\"/test/\")"
   ]
  },
  {
   "cell_type": "code",
   "execution_count": 6,
   "metadata": {},
   "outputs": [],
   "source": [
    "def cal_header_val(file_path):\n",
    "    with open(file_path, \"r\") as file:\n",
    "        lines=file.readlines()\n",
    "    return lines.index('@data\\n')+1\n",
    "\n",
    "headers=[]\n",
    "for dir in train_dirs:\n",
    "    file_path=dir+os.listdir (dir)[0]\n",
    "    headers.append(cal_header_val(file_path))\n",
    "\n",
    "headers=np.array(headers)"
   ]
  },
  {
   "cell_type": "markdown",
   "metadata": {},
   "source": [
    "### SVM "
   ]
  },
  {
   "cell_type": "code",
   "execution_count": 7,
   "metadata": {},
   "outputs": [],
   "source": [
    "def Support_Vector_Regression(train_file, test_file, header):\n",
    "    train_df = pd.read_csv(train_file, header=header, delimiter=\",\")\n",
    "    test_df = pd.read_csv(test_file, header=header, delimiter=\",\")\n",
    "\n",
    "    X_train = train_df.iloc[:, :-1].values\n",
    "    y_train = train_df.iloc[:, -1].values\n",
    "\n",
    "    X_test = test_df.iloc[:, :-1].values\n",
    "    y_test = test_df.iloc[:, -1].values\n",
    "\n",
    "    from sklearn.svm import SVR\n",
    "    width=np.array([2**i for i in range(-18, 21, 2)])\n",
    "\n",
    "    best_mse, best_w=float('inf'), None\n",
    "\n",
    "    for w in width:\n",
    "        regressor=SVR(kernel=\"rbf\", gamma=w)\n",
    "        regressor.fit(X_train, y_train)\n",
    "        y_pred=regressor.predict(X_test)\n",
    "        from sklearn.metrics import mean_squared_error\n",
    "        mse=mean_squared_error(y_pred, y_test)\n",
    "        if(mse<best_mse):\n",
    "            best_mse, best_w=mse, w\n",
    "\n",
    "    return np.array([best_mse, best_w])\n"
   ]
  },
  {
   "cell_type": "code",
   "execution_count": 8,
   "metadata": {},
   "outputs": [
    {
     "name": "stderr",
     "output_type": "stream",
     "text": [
      "/usr/lib/python3/dist-packages/scipy/__init__.py:146: UserWarning: A NumPy version >=1.17.3 and <1.25.0 is required for this version of SciPy (detected version 1.26.3\n",
      "  warnings.warn(f\"A NumPy version >={np_minversion} and <{np_maxversion}\"\n"
     ]
    },
    {
     "name": "stdout",
     "output_type": "stream",
     "text": [
      "./ele-1-5-fold/train/\n",
      "            Values\n",
      "RMSE   1139.563045\n",
      "Alpha     0.000015\n",
      "-----------------------------\n",
      "\n",
      "./diabetes-5-fold/train/\n",
      "         Values\n",
      "RMSE   0.295963\n",
      "Alpha  4.450000\n",
      "-----------------------------\n",
      "\n",
      "./quake-5-fold/train/\n",
      "            Values\n",
      "RMSE      0.136809\n",
      "Alpha  4313.800000\n",
      "-----------------------------\n",
      "\n",
      "./laser-5-fold/train/\n",
      "          Values\n",
      "RMSE   23.374021\n",
      "Alpha   0.000098\n",
      "-----------------------------\n",
      "\n",
      "./plastic-5-fold/train/\n",
      "         Values\n",
      "RMSE   1.490691\n",
      "Alpha  0.010937\n",
      "-----------------------------\n",
      "\n"
     ]
    }
   ],
   "source": [
    "for train_dir, test_dir, header in zip(train_dirs, test_dirs, headers):\n",
    "    train_files=os.listdir(train_dir)\n",
    "    test_files=os.listdir(test_dir)\n",
    "    val=np.zeros(2)\n",
    "    for train, test in zip(train_files, test_files):\n",
    "        val+=Support_Vector_Regression(train_dir+train, test_dir+test, header)\n",
    "    print(train_dir)\n",
    "    val/=len(train_files)\n",
    "    val[0]=math.sqrt(val[0])\n",
    "    val=pd.DataFrame(val, index=[\"RMSE\", \"Alpha\"], columns=[\"Values\"])\n",
    "    print(val)\n",
    "    print(\"-----------------------------\\n\")"
   ]
  },
  {
   "cell_type": "markdown",
   "metadata": {},
   "source": [
    "### SVM / MAE"
   ]
  },
  {
   "cell_type": "code",
   "execution_count": 9,
   "metadata": {},
   "outputs": [],
   "source": [
    "def Support_Vector_Regression(train_file, test_file, header):\n",
    "    train_df = pd.read_csv(train_file, header=header, delimiter=\",\")\n",
    "    test_df = pd.read_csv(test_file, header=header, delimiter=\",\")\n",
    "\n",
    "    X_train = train_df.iloc[:, :-1].values\n",
    "    y_train = train_df.iloc[:, -1].values\n",
    "\n",
    "    X_test = test_df.iloc[:, :-1].values\n",
    "    y_test = test_df.iloc[:, -1].values\n",
    "\n",
    "    from sklearn.svm import SVR\n",
    "    width=np.array([2**i for i in range(-18, 21, 2)])\n",
    "\n",
    "    best_mse, best_w=float('inf'), None\n",
    "\n",
    "    for w in width:\n",
    "        regressor=SVR(kernel=\"rbf\", gamma=w)\n",
    "        regressor.fit(X_train, y_train)\n",
    "        y_pred=regressor.predict(X_test)\n",
    "        from sklearn.metrics import mean_absolute_error\n",
    "        mse=mean_absolute_error(y_pred, y_test)\n",
    "        if(mse<best_mse):\n",
    "            best_mse, best_w=mse, w\n",
    "\n",
    "    return np.array([best_mse, best_w])\n"
   ]
  },
  {
   "cell_type": "code",
   "execution_count": 10,
   "metadata": {},
   "outputs": [
    {
     "name": "stdout",
     "output_type": "stream",
     "text": [
      "./ele-1-5-fold/train/\n",
      "           Values\n",
      "MAE    792.005959\n",
      "Alpha    0.000015\n",
      "-----------------------------\n",
      "\n",
      "./diabetes-5-fold/train/\n",
      "         Values\n",
      "MAE    0.183959\n",
      "Alpha  4.450000\n",
      "-----------------------------\n",
      "\n",
      "./quake-5-fold/train/\n",
      "            Values\n",
      "MAE       0.103932\n",
      "Alpha  1228.800002\n",
      "-----------------------------\n",
      "\n",
      "./laser-5-fold/train/\n",
      "          Values\n",
      "MAE    12.226322\n",
      "Alpha   0.000244\n",
      "-----------------------------\n",
      "\n",
      "./plastic-5-fold/train/\n",
      "         Values\n",
      "MAE    1.117342\n",
      "Alpha  0.071875\n",
      "-----------------------------\n",
      "\n"
     ]
    }
   ],
   "source": [
    "for train_dir, test_dir, header in zip(train_dirs, test_dirs, headers):\n",
    "    train_files=os.listdir(train_dir)\n",
    "    test_files=os.listdir(test_dir)\n",
    "    val=np.zeros(2)\n",
    "    for train, test in zip(train_files, test_files):\n",
    "        val+=Support_Vector_Regression(train_dir+train, test_dir+test, header)\n",
    "    print(train_dir)\n",
    "    val/=len(train_files)\n",
    "    val=pd.DataFrame(val, index=[\"MAE\", \"Alpha\"], columns=[\"Values\"])\n",
    "    print(val)\n",
    "    print(\"-----------------------------\\n\")"
   ]
  },
  {
   "cell_type": "markdown",
   "metadata": {},
   "source": [
    "### SVM / MSE"
   ]
  },
  {
   "cell_type": "code",
   "execution_count": 11,
   "metadata": {},
   "outputs": [],
   "source": [
    "def Support_Vector_Regression(train_file, test_file, header):\n",
    "    train_df = pd.read_csv(train_file, header=header, delimiter=\",\")\n",
    "    test_df = pd.read_csv(test_file, header=header, delimiter=\",\")\n",
    "\n",
    "    X_train = train_df.iloc[:, :-1].values\n",
    "    y_train = train_df.iloc[:, -1].values\n",
    "\n",
    "    X_test = test_df.iloc[:, :-1].values\n",
    "    y_test = test_df.iloc[:, -1].values\n",
    "\n",
    "    from sklearn.svm import SVR\n",
    "    width=np.array([2**i for i in range(-18, 21, 2)])\n",
    "\n",
    "    best_mse, best_w=-float('inf'), None\n",
    "\n",
    "    for w in width:\n",
    "        regressor=SVR(kernel=\"rbf\", gamma=w)\n",
    "        regressor.fit(X_train, y_train)\n",
    "        y_pred=regressor.predict(X_test)\n",
    "        from sklearn.metrics import r2_score\n",
    "        mse=r2_score(y_pred, y_test)\n",
    "        if(mse>best_mse):\n",
    "            best_mse, best_w=mse, w\n",
    "\n",
    "    return np.array([best_mse, best_w])\n"
   ]
  },
  {
   "cell_type": "code",
   "execution_count": 12,
   "metadata": {},
   "outputs": [
    {
     "name": "stdout",
     "output_type": "stream",
     "text": [
      "./ele-1-5-fold/train/\n",
      "              Values\n",
      "R2 score -312.579759\n",
      "Alpha       0.000015\n",
      "-----------------------------\n",
      "\n",
      "./diabetes-5-fold/train/\n",
      "             Values\n",
      "R2 score   0.755725\n",
      "Alpha     55.450000\n",
      "-----------------------------\n",
      "\n",
      "./quake-5-fold/train/\n",
      "              Values\n",
      "R2 score   -1.180579\n",
      "Alpha     460.806250\n",
      "-----------------------------\n",
      "\n",
      "./laser-5-fold/train/\n",
      "            Values\n",
      "R2 score  0.417075\n",
      "Alpha     0.000098\n",
      "-----------------------------\n",
      "\n",
      "./plastic-5-fold/train/\n",
      "            Values\n",
      "R2 score  0.782111\n",
      "Alpha     0.015625\n",
      "-----------------------------\n",
      "\n"
     ]
    }
   ],
   "source": [
    "for train_dir, test_dir, header in zip(train_dirs, test_dirs, headers):\n",
    "    train_files=os.listdir(train_dir)\n",
    "    test_files=os.listdir(test_dir)\n",
    "    val=np.zeros(2)\n",
    "    for train, test in zip(train_files, test_files):\n",
    "        val+=Support_Vector_Regression(train_dir+train, test_dir+test, header)\n",
    "    print(train_dir)\n",
    "    val/=len(train_files)\n",
    "    val=pd.DataFrame(val, index=[\"R2 score\", \"Alpha\"], columns=[\"Values\"])\n",
    "    print(val)\n",
    "    print(\"-----------------------------\\n\")"
   ]
  }
 ],
 "metadata": {
  "kernelspec": {
   "display_name": "Python 3",
   "language": "python",
   "name": "python3"
  },
  "language_info": {
   "codemirror_mode": {
    "name": "ipython",
    "version": 3
   },
   "file_extension": ".py",
   "mimetype": "text/x-python",
   "name": "python",
   "nbconvert_exporter": "python",
   "pygments_lexer": "ipython3",
   "version": "3.10.12"
  }
 },
 "nbformat": 4,
 "nbformat_minor": 2
}
