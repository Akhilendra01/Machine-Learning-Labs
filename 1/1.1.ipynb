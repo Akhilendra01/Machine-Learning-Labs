{
 "cells": [
  {
   "cell_type": "code",
   "execution_count": 1,
   "metadata": {},
   "outputs": [],
   "source": [
    "import numpy as np\n",
    "import pandas as pd\n",
    "import matplotlib.pyplot as plt\n",
    "import math\n",
    "import os"
   ]
  },
  {
   "cell_type": "code",
   "execution_count": 2,
   "metadata": {},
   "outputs": [],
   "source": [
    "train_dirs=[]\n",
    "test_dirs=[]\n",
    "headers=[7, 7, 9, 7, 8]\n",
    "for dir in os.listdir(\"./\"):\n",
    "    if(dir.find(\"5-fold\")!=-1):\n",
    "        train_dirs.append(\"./\"+dir+\"/train/\")\n",
    "        test_dirs.append(\"./\"+dir+\"/test/\")"
   ]
  },
  {
   "cell_type": "markdown",
   "metadata": {},
   "source": [
    "### Linear Regression"
   ]
  },
  {
   "cell_type": "code",
   "execution_count": 3,
   "metadata": {},
   "outputs": [],
   "source": [
    "def LinearRegression(train_file, test_file, header):\n",
    "    train_df = pd.read_csv(train_file, header=header, delimiter=\",\")\n",
    "    test_df = pd.read_csv(test_file, header=header, delimiter=\",\")\n",
    "\n",
    "    X_train = train_df.iloc[:, :-1].values\n",
    "    y_train = train_df.iloc[:, -1].values\n",
    "\n",
    "    X_test = test_df.iloc[:, :-1].values\n",
    "    y_test = test_df.iloc[:, -1].values\n",
    "\n",
    "    from sklearn.linear_model import LinearRegression\n",
    "    regressor = LinearRegression()\n",
    "\n",
    "    regressor.fit(X_train, y_train)\n",
    "\n",
    "    y_pred = regressor.predict(X_test)\n",
    "\n",
    "    from sklearn.metrics import mean_squared_error, mean_absolute_error, r2_score\n",
    "    mse = mean_squared_error(y_test, y_pred)\n",
    "    mae = mean_absolute_error(y_test, y_pred)\n",
    "    r2score = r2_score(y_test, y_pred)\n",
    "    return np.array([mse, mae, r2score])"
   ]
  },
  {
   "cell_type": "code",
   "execution_count": 4,
   "metadata": {},
   "outputs": [
    {
     "name": "stdout",
     "output_type": "stream",
     "text": [
      "./diabetes-5-fold/train/\n",
      "        Values\n",
      "RMSE  0.639498\n",
      "MSE   0.501970\n",
      "R2   -0.000552\n",
      "-----------------------------\n",
      "\n",
      "./ele-1-5-fold/train/\n",
      "          Values\n",
      "RMSE  649.533859\n",
      "MSE   421.387017\n",
      "R2      0.682405\n",
      "-----------------------------\n",
      "\n",
      "./laser-5-fold/train/\n",
      "         Values\n",
      "RMSE  23.300207\n",
      "MSE   15.579874\n",
      "R2     0.746418\n",
      "-----------------------------\n",
      "\n",
      "./plastic-5-fold/train/\n",
      "        Values\n",
      "RMSE  1.531465\n",
      "MSE   1.232442\n",
      "R2    0.798437\n",
      "-----------------------------\n",
      "\n",
      "./quake-5-fold/train/\n",
      "        Values\n",
      "RMSE  0.189132\n",
      "MSE   0.148620\n",
      "R2    0.002162\n",
      "-----------------------------\n",
      "\n"
     ]
    }
   ],
   "source": [
    "\n",
    "for train_dir, test_dir, header in zip(train_dirs, test_dirs, headers):\n",
    "    train_files=os.listdir(train_dir)\n",
    "    test_files=os.listdir(test_dir)\n",
    "\n",
    "    val=np.zeros(3)\n",
    "    for train, test in zip(train_files, test_files):\n",
    "        val+=LinearRegression(train_dir+train, test_dir+test, header)\n",
    "    print(train_dir)\n",
    "    val/=len(train_files)\n",
    "    val[0]=math.sqrt(val[0])\n",
    "    val=pd.DataFrame(val, index=[\"RMSE\", \"MSE\", \"R2\"], columns=[\"Values\"])\n",
    "    print(val)\n",
    "    print(\"-----------------------------\\n\")\n"
   ]
  },
  {
   "cell_type": "markdown",
   "metadata": {},
   "source": [
    "### Polynomial Regression of degree 2 and 3"
   ]
  },
  {
   "cell_type": "code",
   "execution_count": 5,
   "metadata": {},
   "outputs": [],
   "source": [
    "def PolynomialRegression(train_file, test_file, header, degree):\n",
    "    train_df = pd.read_csv(train_file, header=header, delimiter=\",\")\n",
    "    test_df = pd.read_csv(test_file, header=header, delimiter=\",\")\n",
    "\n",
    "    X_train = train_df.iloc[:, :-1].values\n",
    "    y_train = train_df.iloc[:, -1].values\n",
    "\n",
    "    X_test = test_df.iloc[:, :-1].values\n",
    "    y_test = test_df.iloc[:, -1].values\n",
    "\n",
    "    from sklearn.linear_model import LinearRegression\n",
    "    from sklearn.preprocessing import PolynomialFeatures\n",
    "\n",
    "    poly_reg=PolynomialFeatures(degree=degree)\n",
    "    X_poly=poly_reg.fit_transform(X_train)\n",
    "\n",
    "    regressor = LinearRegression()\n",
    "    regressor.fit(X_poly, y_train)\n",
    "\n",
    "    y_pred = regressor.predict(poly_reg.transform(X_test))\n",
    "\n",
    "    from sklearn.metrics import mean_squared_error, mean_absolute_error, r2_score\n",
    "\n",
    "    mse = mean_squared_error(y_test, y_pred)\n",
    "    mae = mean_absolute_error(y_test, y_pred)\n",
    "    r2score = r2_score(y_test, y_pred)\n",
    "    return np.array([mse, mae, r2score])"
   ]
  },
  {
   "cell_type": "markdown",
   "metadata": {},
   "source": [
    "#### Polynomial Regression of degree 2"
   ]
  },
  {
   "cell_type": "code",
   "execution_count": 6,
   "metadata": {},
   "outputs": [
    {
     "name": "stdout",
     "output_type": "stream",
     "text": [
      "./diabetes-5-fold/train/\n",
      "        Values\n",
      "RMSE  0.561297\n",
      "MSE   0.456880\n",
      "R2    0.226230\n",
      "-----------------------------\n",
      "\n",
      "./ele-1-5-fold/train/\n",
      "          Values\n",
      "RMSE  625.020558\n",
      "MSE   416.170802\n",
      "R2      0.704994\n",
      "-----------------------------\n",
      "\n",
      "./laser-5-fold/train/\n",
      "         Values\n",
      "RMSE  10.954232\n",
      "MSE    6.686850\n",
      "R2     0.944316\n",
      "-----------------------------\n",
      "\n",
      "./plastic-5-fold/train/\n",
      "        Values\n",
      "RMSE  1.528545\n",
      "MSE   1.226209\n",
      "R2    0.799254\n",
      "-----------------------------\n",
      "\n",
      "./quake-5-fold/train/\n",
      "        Values\n",
      "RMSE  0.189590\n",
      "MSE   0.148552\n",
      "R2   -0.002729\n",
      "-----------------------------\n",
      "\n"
     ]
    }
   ],
   "source": [
    "for train_dir, test_dir, header in zip(train_dirs, test_dirs, headers):\n",
    "    train_files = os.listdir(train_dir)\n",
    "    test_files = os.listdir(test_dir)\n",
    "\n",
    "    val = np.zeros(3)\n",
    "    for train, test in zip(train_files, test_files):\n",
    "        val += PolynomialRegression(train_dir + train, test_dir + test, header, 2)\n",
    "    print(train_dir)\n",
    "    val /= len(train_files)\n",
    "    val[0] = math.sqrt(val[0])\n",
    "    val = pd.DataFrame(val, index=[\"RMSE\", \"MSE\", \"R2\"], columns=[\"Values\"])\n",
    "    print(val)\n",
    "    print(\"-----------------------------\\n\")"
   ]
  },
  {
   "cell_type": "markdown",
   "metadata": {},
   "source": [
    "#### Polynomial Regression of degree 3"
   ]
  },
  {
   "cell_type": "code",
   "execution_count": 7,
   "metadata": {},
   "outputs": [
    {
     "name": "stdout",
     "output_type": "stream",
     "text": [
      "./diabetes-5-fold/train/\n",
      "        Values\n",
      "RMSE  0.838511\n",
      "MSE   0.620331\n",
      "R2   -0.519498\n",
      "-----------------------------\n",
      "\n",
      "./ele-1-5-fold/train/\n",
      "          Values\n",
      "RMSE  737.354993\n",
      "MSE   427.489641\n",
      "R2      0.588328\n",
      "-----------------------------\n",
      "\n",
      "./laser-5-fold/train/\n",
      "        Values\n",
      "RMSE  7.379026\n",
      "MSE   3.270549\n",
      "R2    0.975378\n",
      "-----------------------------\n",
      "\n",
      "./plastic-5-fold/train/\n",
      "        Values\n",
      "RMSE  1.473863\n",
      "MSE   1.166224\n",
      "R2    0.813267\n",
      "-----------------------------\n",
      "\n",
      "./quake-5-fold/train/\n",
      "        Values\n",
      "RMSE  0.189523\n",
      "MSE   0.149088\n",
      "R2   -0.002150\n",
      "-----------------------------\n",
      "\n"
     ]
    }
   ],
   "source": [
    "for train_dir, test_dir, header in zip(train_dirs, test_dirs, headers):\n",
    "    train_files = os.listdir(train_dir)\n",
    "    test_files = os.listdir(test_dir)\n",
    "\n",
    "    val = np.zeros(3)\n",
    "    for train, test in zip(train_files, test_files):\n",
    "        val += PolynomialRegression(train_dir + train, test_dir + test, header, 3)\n",
    "    print(train_dir)\n",
    "    val /= len(train_files)\n",
    "    val[0] = math.sqrt(val[0])\n",
    "    val = pd.DataFrame(val, index=[\"RMSE\", \"MSE\", \"R2\"], columns=[\"Values\"])\n",
    "    print(val)\n",
    "    print(\"-----------------------------\\n\")"
   ]
  },
  {
   "cell_type": "markdown",
   "metadata": {},
   "source": [
    "### Regularization in Linear Regression"
   ]
  },
  {
   "cell_type": "code",
   "execution_count": 8,
   "metadata": {},
   "outputs": [],
   "source": [
    "def Regularization(train_file, test_file, header):\n",
    "    train_df = pd.read_csv(train_file, header=header, delimiter=\",\")\n",
    "    test_df = pd.read_csv(test_file, header=header, delimiter=\",\")\n",
    "\n",
    "    X_train = train_df.iloc[:, :-1].values\n",
    "    y_train = train_df.iloc[:, -1].values\n",
    "\n",
    "    X_test = test_df.iloc[:, :-1].values\n",
    "    y_test = test_df.iloc[:, -1].values\n",
    "\n",
    "    from sklearn.linear_model import Ridge\n",
    "    alphas = np.array([2**i for i in range(-18, 51, 2)])\n",
    "\n",
    "    best_mse, best_alpha=float('inf'), None\n",
    "\n",
    "    from sklearn.metrics import mean_squared_error\n",
    "    for alpha in alphas:\n",
    "        regressor=Ridge(alpha=alpha)\n",
    "        regressor.fit(X_train, y_train)\n",
    "        y_pred=regressor.predict(X_test)\n",
    "        mse=mean_squared_error(y_test, y_pred)\n",
    "\n",
    "        if mse<best_mse:\n",
    "            best_mse, best_alpha=mse, alpha\n",
    "    return np.array([best_mse, best_alpha])\n"
   ]
  },
  {
   "cell_type": "code",
   "execution_count": 9,
   "metadata": {},
   "outputs": [
    {
     "name": "stdout",
     "output_type": "stream",
     "text": [
      "./diabetes-5-fold/train/\n",
      "              Values\n",
      "Best RMSE   0.634371\n",
      "Best Alpha  0.000004\n",
      "-----------------------------\n",
      "\n",
      "./ele-1-5-fold/train/\n",
      "                Values\n",
      "Best RMSE   577.159707\n",
      "Best Alpha    0.000004\n",
      "-----------------------------\n",
      "\n",
      "./laser-5-fold/train/\n",
      "               Values\n",
      "Best RMSE   23.499185\n",
      "Best Alpha   0.000004\n",
      "-----------------------------\n",
      "\n",
      "./plastic-5-fold/train/\n",
      "              Values\n",
      "Best RMSE   1.510579\n",
      "Best Alpha  0.000004\n",
      "-----------------------------\n",
      "\n",
      "./quake-5-fold/train/\n",
      "                   Values\n",
      "Best RMSE        0.192593\n",
      "Best Alpha  262144.000000\n",
      "-----------------------------\n",
      "\n"
     ]
    }
   ],
   "source": [
    "for train_dir, test_dir, header in zip(train_dirs, test_dirs, headers):\n",
    "    train_files = os.listdir(train_dir)\n",
    "    test_files = os.listdir(test_dir)\n",
    "\n",
    "    val = np.zeros(2)\n",
    "    for train, test in zip(train_files, test_files):\n",
    "        val = Regularization(train_dir + train, test_dir + test, header)\n",
    "    print(train_dir)\n",
    "    val[0]=math.sqrt(val[0])\n",
    "    val = pd.DataFrame(val, index=[\"Best RMSE\", \"Best Alpha\"], columns=[\"Values\"])\n",
    "    print(val)\n",
    "    print(\"-----------------------------\\n\")"
   ]
  }
 ],
 "metadata": {
  "kernelspec": {
   "display_name": "Python 3",
   "language": "python",
   "name": "python3"
  },
  "language_info": {
   "codemirror_mode": {
    "name": "ipython",
    "version": 3
   },
   "file_extension": ".py",
   "mimetype": "text/x-python",
   "name": "python",
   "nbconvert_exporter": "python",
   "pygments_lexer": "ipython3",
   "version": "3.10.0"
  }
 },
 "nbformat": 4,
 "nbformat_minor": 2
}
