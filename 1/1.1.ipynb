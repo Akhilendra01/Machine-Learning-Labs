{
 "cells": [
  {
   "cell_type": "markdown",
   "metadata": {},
   "source": [
    "#### Machine Learning Lab 1\n",
    "#### Akhilendra Pratap 211112438"
   ]
  },
  {
   "cell_type": "code",
   "execution_count": 1,
   "metadata": {},
   "outputs": [
    {
     "name": "stderr",
     "output_type": "stream",
     "text": [
      "/tmp/ipykernel_7652/4209716058.py:2: DeprecationWarning: \n",
      "Pyarrow will become a required dependency of pandas in the next major release of pandas (pandas 3.0),\n",
      "(to allow more performant data types, such as the Arrow string type, and better interoperability with other libraries)\n",
      "but was not found to be installed on your system.\n",
      "If this would cause problems for you,\n",
      "please provide us feedback at https://github.com/pandas-dev/pandas/issues/54466\n",
      "        \n",
      "  import pandas as pd\n"
     ]
    }
   ],
   "source": [
    "import numpy as np\n",
    "import pandas as pd\n",
    "import matplotlib.pyplot as plt\n",
    "import math\n",
    "import os"
   ]
  },
  {
   "cell_type": "code",
   "execution_count": 2,
   "metadata": {},
   "outputs": [],
   "source": [
    "train_dirs=[]\n",
    "test_dirs=[]\n",
    "for dir in os.listdir(\"./\"):\n",
    "    if(dir.find(\"5-fold\")!=-1):\n",
    "        train_dirs.append(\"./\"+dir+\"/train/\")\n",
    "        test_dirs.append(\"./\"+dir+\"/test/\")"
   ]
  },
  {
   "cell_type": "code",
   "execution_count": 3,
   "metadata": {},
   "outputs": [],
   "source": [
    "def cal_header_val(file_path):\n",
    "    with open(file_path, \"r\") as file:\n",
    "        lines=file.readlines()\n",
    "    return lines.index('@data\\n')+1\n",
    "\n",
    "headers=[]\n",
    "for dir in train_dirs:\n",
    "    file_path=dir+os.listdir (dir)[0]\n",
    "    headers.append(cal_header_val(file_path))\n",
    "\n",
    "headers=np.array(headers)"
   ]
  },
  {
   "cell_type": "markdown",
   "metadata": {},
   "source": [
    "### Linear Regression"
   ]
  },
  {
   "cell_type": "code",
   "execution_count": 4,
   "metadata": {},
   "outputs": [],
   "source": [
    "def LinearRegression(train_file, test_file, header):\n",
    "    train_df = pd.read_csv(train_file, header=header, delimiter=\",\")\n",
    "    test_df = pd.read_csv(test_file, header=header, delimiter=\",\")\n",
    "\n",
    "    X_train = train_df.iloc[:, :-1].values\n",
    "    y_train = train_df.iloc[:, -1].values\n",
    "\n",
    "    X_test = test_df.iloc[:, :-1].values\n",
    "    y_test = test_df.iloc[:, -1].values\n",
    "\n",
    "    from sklearn.linear_model import LinearRegression\n",
    "    regressor = LinearRegression()\n",
    "\n",
    "    regressor.fit(X_train, y_train)\n",
    "\n",
    "    y_pred = regressor.predict(X_test)\n",
    "\n",
    "    from sklearn.metrics import mean_squared_error, mean_absolute_error, r2_score\n",
    "    mse = mean_squared_error(y_test, y_pred)\n",
    "    mae = mean_absolute_error(y_test, y_pred)\n",
    "    r2score = r2_score(y_test, y_pred)\n",
    "    return np.array([mse, mae, r2score])"
   ]
  },
  {
   "cell_type": "code",
   "execution_count": 5,
   "metadata": {},
   "outputs": [
    {
     "name": "stderr",
     "output_type": "stream",
     "text": [
      "/usr/lib/python3/dist-packages/scipy/__init__.py:146: UserWarning: A NumPy version >=1.17.3 and <1.25.0 is required for this version of SciPy (detected version 1.26.3\n",
      "  warnings.warn(f\"A NumPy version >={np_minversion} and <{np_maxversion}\"\n"
     ]
    },
    {
     "name": "stdout",
     "output_type": "stream",
     "text": [
      "./ele-1-5-fold/train/\n",
      "          Values\n",
      "RMSE  633.808233\n",
      "MSE   419.216579\n",
      "R2      0.697299\n",
      "-----------------------------\n",
      "\n",
      "./diabetes-5-fold/train/\n",
      "        Values\n",
      "RMSE  0.589029\n",
      "MSE   0.465676\n",
      "R2    0.144824\n",
      "-----------------------------\n",
      "\n",
      "./quake-5-fold/train/\n",
      "        Values\n",
      "RMSE  0.188958\n",
      "MSE   0.148494\n",
      "R2    0.003954\n",
      "-----------------------------\n",
      "\n",
      "./laser-5-fold/train/\n",
      "         Values\n",
      "RMSE  23.022278\n",
      "MSE   15.511976\n",
      "R2     0.752009\n",
      "-----------------------------\n",
      "\n",
      "./plastic-5-fold/train/\n",
      "        Values\n",
      "RMSE  1.529883\n",
      "MSE   1.231589\n",
      "R2    0.798854\n",
      "-----------------------------\n",
      "\n"
     ]
    }
   ],
   "source": [
    "\n",
    "for train_dir, test_dir, header in zip(train_dirs, test_dirs, headers):\n",
    "    train_files=os.listdir(train_dir)\n",
    "    test_files=os.listdir(test_dir)\n",
    "    val=np.zeros(3)\n",
    "    for train, test in zip(train_files, test_files):\n",
    "        val+=LinearRegression(train_dir+train, test_dir+test, header)\n",
    "    print(train_dir)\n",
    "    val/=len(train_files)\n",
    "    val[0]=math.sqrt(val[0])\n",
    "    val=pd.DataFrame(val, index=[\"RMSE\", \"MSE\", \"R2\"], columns=[\"Values\"])\n",
    "    print(val)\n",
    "    print(\"-----------------------------\\n\")\n"
   ]
  },
  {
   "cell_type": "markdown",
   "metadata": {},
   "source": [
    "### Polynomial Regression of degree 2 and 3"
   ]
  },
  {
   "cell_type": "code",
   "execution_count": 6,
   "metadata": {},
   "outputs": [],
   "source": [
    "def PolynomialRegression(train_file, test_file, header, degree):\n",
    "    train_df = pd.read_csv(train_file, header=header, delimiter=\",\")\n",
    "    test_df = pd.read_csv(test_file, header=header, delimiter=\",\")\n",
    "\n",
    "    X_train = train_df.iloc[:, :-1].values\n",
    "    y_train = train_df.iloc[:, -1].values\n",
    "\n",
    "    X_test = test_df.iloc[:, :-1].values\n",
    "    y_test = test_df.iloc[:, -1].values\n",
    "\n",
    "    from sklearn.linear_model import LinearRegression\n",
    "    from sklearn.preprocessing import PolynomialFeatures\n",
    "\n",
    "    poly_reg=PolynomialFeatures(degree=degree)\n",
    "    X_poly=poly_reg.fit_transform(X_train)\n",
    "\n",
    "    regressor = LinearRegression()\n",
    "    regressor.fit(X_poly, y_train)\n",
    "\n",
    "    y_pred = regressor.predict(poly_reg.transform(X_test))\n",
    "\n",
    "    from sklearn.metrics import mean_squared_error, mean_absolute_error, r2_score\n",
    "\n",
    "    mse = mean_squared_error(y_test, y_pred)\n",
    "    mae = mean_absolute_error(y_test, y_pred)\n",
    "    r2score = r2_score(y_test, y_pred)\n",
    "    return np.array([mse, mae, r2score])"
   ]
  },
  {
   "cell_type": "markdown",
   "metadata": {},
   "source": [
    "#### Polynomial Regression of degree 2"
   ]
  },
  {
   "cell_type": "code",
   "execution_count": 7,
   "metadata": {},
   "outputs": [
    {
     "name": "stdout",
     "output_type": "stream",
     "text": [
      "./ele-1-5-fold/train/\n",
      "          Values\n",
      "RMSE  593.068697\n",
      "MSE   404.025764\n",
      "R2      0.732678\n",
      "-----------------------------\n",
      "\n",
      "./diabetes-5-fold/train/\n",
      "        Values\n",
      "RMSE  0.507230\n",
      "MSE   0.414338\n",
      "R2    0.355809\n",
      "-----------------------------\n",
      "\n",
      "./quake-5-fold/train/\n",
      "        Values\n",
      "RMSE  0.188900\n",
      "MSE   0.148034\n",
      "R2    0.004362\n",
      "-----------------------------\n",
      "\n",
      "./laser-5-fold/train/\n",
      "         Values\n",
      "RMSE  10.382359\n",
      "MSE    6.491844\n",
      "R2     0.949910\n",
      "-----------------------------\n",
      "\n",
      "./plastic-5-fold/train/\n",
      "        Values\n",
      "RMSE  1.524322\n",
      "MSE   1.222752\n",
      "R2    0.800348\n",
      "-----------------------------\n",
      "\n"
     ]
    }
   ],
   "source": [
    "for train_dir, test_dir, header in zip(train_dirs, test_dirs, headers):\n",
    "    train_files = os.listdir(train_dir)\n",
    "    test_files = os.listdir(test_dir)\n",
    "\n",
    "    val = np.zeros(3)\n",
    "    for train, test in zip(train_files, test_files):\n",
    "        val += PolynomialRegression(train_dir + train, test_dir + test, header, 2)\n",
    "    print(train_dir)\n",
    "    val /= len(train_files)\n",
    "    val[0] = math.sqrt(val[0])\n",
    "    val = pd.DataFrame(val, index=[\"RMSE\", \"MSE\", \"R2\"], columns=[\"Values\"])\n",
    "    print(val)\n",
    "    print(\"-----------------------------\\n\")"
   ]
  },
  {
   "cell_type": "markdown",
   "metadata": {},
   "source": [
    "#### Polynomial Regression of degree 3"
   ]
  },
  {
   "cell_type": "code",
   "execution_count": 8,
   "metadata": {},
   "outputs": [
    {
     "name": "stdout",
     "output_type": "stream",
     "text": [
      "./ele-1-5-fold/train/\n",
      "          Values\n",
      "RMSE  584.772891\n",
      "MSE   397.998001\n",
      "R2      0.739070\n",
      "-----------------------------\n",
      "\n",
      "./diabetes-5-fold/train/\n",
      "        Values\n",
      "RMSE  0.479272\n",
      "MSE   0.364019\n",
      "R2    0.463297\n",
      "-----------------------------\n",
      "\n",
      "./quake-5-fold/train/\n",
      "        Values\n",
      "RMSE  0.188188\n",
      "MSE   0.148102\n",
      "R2    0.011537\n",
      "-----------------------------\n",
      "\n",
      "./laser-5-fold/train/\n",
      "        Values\n",
      "RMSE  5.376591\n",
      "MSE   2.819652\n",
      "R2    0.986938\n",
      "-----------------------------\n",
      "\n",
      "./plastic-5-fold/train/\n",
      "        Values\n",
      "RMSE  1.468539\n",
      "MSE   1.161601\n",
      "R2    0.814599\n",
      "-----------------------------\n",
      "\n"
     ]
    }
   ],
   "source": [
    "for train_dir, test_dir, header in zip(train_dirs, test_dirs, headers):\n",
    "    train_files = os.listdir(train_dir)\n",
    "    test_files = os.listdir(test_dir)\n",
    "\n",
    "    val = np.zeros(3)\n",
    "    for train, test in zip(train_files, test_files):\n",
    "        val += PolynomialRegression(train_dir + train, test_dir + test, header, 3)\n",
    "    print(train_dir)\n",
    "    val /= len(train_files)\n",
    "    val[0] = math.sqrt(val[0])\n",
    "    val = pd.DataFrame(val, index=[\"RMSE\", \"MSE\", \"R2\"], columns=[\"Values\"])\n",
    "    print(val)\n",
    "    print(\"-----------------------------\\n\")"
   ]
  },
  {
   "cell_type": "markdown",
   "metadata": {},
   "source": [
    "### Regularization in Linear Regression"
   ]
  },
  {
   "cell_type": "code",
   "execution_count": 9,
   "metadata": {},
   "outputs": [],
   "source": [
    "def Regularization(train_file, test_file, header):\n",
    "    train_df = pd.read_csv(train_file, header=header, delimiter=\",\")\n",
    "    test_df = pd.read_csv(test_file, header=header, delimiter=\",\")\n",
    "\n",
    "    X_train = train_df.iloc[:, :-1].values\n",
    "    y_train = train_df.iloc[:, -1].values\n",
    "\n",
    "    X_test = test_df.iloc[:, :-1].values\n",
    "    y_test = test_df.iloc[:, -1].values\n",
    "\n",
    "    from sklearn.linear_model import Ridge\n",
    "    alphas = np.array([2**i for i in range(-18, 51, 2)])\n",
    "\n",
    "    best_mse, best_alpha=float('inf'), None\n",
    "    \n",
    "    from sklearn.metrics import mean_squared_error\n",
    "    for alpha in alphas:\n",
    "        regressor=Ridge(alpha=alpha)\n",
    "        regressor.fit(X_train, y_train)\n",
    "        y_pred=regressor.predict(X_test)\n",
    "        mse=mean_squared_error(y_test, y_pred)\n",
    "\n",
    "        if mse<best_mse:\n",
    "            best_mse, best_alpha=mse, alpha\n",
    "    return np.array([best_mse, best_alpha])\n"
   ]
  },
  {
   "cell_type": "code",
   "execution_count": 10,
   "metadata": {},
   "outputs": [
    {
     "name": "stdout",
     "output_type": "stream",
     "text": [
      "./ele-1-5-fold/train/\n",
      "                Values\n",
      "Best RMSE   575.377949\n",
      "Best Alpha    0.000004\n",
      "-----------------------------\n",
      "\n",
      "./diabetes-5-fold/train/\n",
      "              Values\n",
      "Best RMSE   0.634371\n",
      "Best Alpha  0.000004\n",
      "-----------------------------\n",
      "\n",
      "./quake-5-fold/train/\n",
      "              Values\n",
      "Best RMSE   0.178702\n",
      "Best Alpha  0.000004\n",
      "-----------------------------\n",
      "\n",
      "./laser-5-fold/train/\n",
      "                   Values\n",
      "Best RMSE       24.206672\n",
      "Best Alpha  262144.000000\n",
      "-----------------------------\n",
      "\n",
      "./plastic-5-fold/train/\n",
      "              Values\n",
      "Best RMSE   1.510579\n",
      "Best Alpha  0.000004\n",
      "-----------------------------\n",
      "\n"
     ]
    }
   ],
   "source": [
    "for train_dir, test_dir, header in zip(train_dirs, test_dirs, headers):\n",
    "    train_files = os.listdir(train_dir)\n",
    "    test_files = os.listdir(test_dir)\n",
    "\n",
    "    val = np.zeros(2)\n",
    "    for train, test in zip(train_files, test_files):\n",
    "        val+ = Regularization(train_dir + train, test_dir + test, header)\n",
    "    print(train_dir)\n",
    "    val[0]=math.sqrt(val[0])\n",
    "    val = pd.DataFrame(val, index=[\"Best RMSE\", \"Best Alpha\"], columns=[\"Values\"])\n",
    "    print(val)\n",
    "    print(\"-----------------------------\\n\")"
   ]
  }
 ],
 "metadata": {
  "kernelspec": {
   "display_name": "Python 3",
   "language": "python",
   "name": "python3"
  },
  "language_info": {
   "codemirror_mode": {
    "name": "ipython",
    "version": 3
   },
   "file_extension": ".py",
   "mimetype": "text/x-python",
   "name": "python",
   "nbconvert_exporter": "python",
   "pygments_lexer": "ipython3",
   "version": "3.10.12"
  }
 },
 "nbformat": 4,
 "nbformat_minor": 2
}
