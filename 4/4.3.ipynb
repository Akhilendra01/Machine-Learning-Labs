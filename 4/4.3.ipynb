{
 "cells": [
  {
   "cell_type": "markdown",
   "metadata": {},
   "source": [
    "## Naive Bayes"
   ]
  },
  {
   "cell_type": "code",
   "execution_count": 2,
   "metadata": {},
   "outputs": [],
   "source": [
    "import numpy as np\n",
    "import pandas as pd\n",
    "from numpy import array"
   ]
  },
  {
   "cell_type": "code",
   "execution_count": 43,
   "metadata": {},
   "outputs": [],
   "source": [
    "class NaiveBayes:\n",
    "    def __init__(self):\n",
    "        pass\n",
    "\n",
    "    def fit(self, X: array, y: array)->None:\n",
    "        n_samples, n_features = X.shape\n",
    "        self.cls:array=np.unique(y)\n",
    "        n_cls=len(self.cls)\n",
    "\n",
    "        self.mean = np.zeros((n_cls, n_features), dtype=np.float64)\n",
    "        self.var = np.zeros((n_cls, n_features), dtype=np.float64)\n",
    "        self.prior = np.zeros(n_cls, dtype=np.float64)\n",
    "        \n",
    "        dt=np.concatenate((X, y), axis=1)\n",
    "\n",
    "        for i, c in enumerate(self.cls):\n",
    "            X_c=dt[dt[:, -1]==c][:, :-1]\n",
    "            self.mean[i, :]=X_c.mean(axis=0)\n",
    "            self.var[i, :]=X_c.var(axis=0)\n",
    "            self.mean[i, :]=X_c.mean(axis=0)\n",
    "            self.prior[i]=X_c.shape[0]/n_samples \n",
    "\n",
    "    def predict(self, X: array)->array:\n",
    "        return np.array([self.make_pred(x) for x in X])\n",
    "\n",
    "    def make_pred(self, x: array)->str:\n",
    "        p=[]\n",
    "        for i, c in enumerate(self.cls):\n",
    "            prior=np.log(self.prior[i])\n",
    "            posterior=np.sum(np.log(self.pdf(i, x)))\n",
    "            p.append(prior+posterior)\n",
    "        \n",
    "        return self.cls[np.argmax(p)]\n",
    "    \n",
    "    def pdf(self, c_idx, x):\n",
    "        mean=self.mean[c_idx]\n",
    "        var=self.var[c_idx]\n",
    "\n",
    "        num=np.exp(-(x-mean)**2/(2*var))\n",
    "        denom=np.sqrt(2*np.pi*var)\n",
    "\n",
    "        return num/denom\n",
    "            "
   ]
  },
  {
   "cell_type": "code",
   "execution_count": 57,
   "metadata": {},
   "outputs": [],
   "source": [
    "df=pd.read_csv('apple_quality.csv')\n",
    "X=df.iloc[:, :-1].values\n",
    "y=df.iloc[:, -1].values.reshape(-1, 1)"
   ]
  },
  {
   "cell_type": "code",
   "execution_count": 58,
   "metadata": {},
   "outputs": [],
   "source": [
    "dt=np.concatenate((X, y), axis=1)"
   ]
  },
  {
   "cell_type": "code",
   "execution_count": 59,
   "metadata": {},
   "outputs": [],
   "source": [
    "classifier=NaiveBayes()"
   ]
  },
  {
   "cell_type": "code",
   "execution_count": 60,
   "metadata": {},
   "outputs": [],
   "source": [
    "classifier.fit(X, y)"
   ]
  },
  {
   "cell_type": "code",
   "execution_count": 61,
   "metadata": {},
   "outputs": [],
   "source": [
    "y_pred=classifier.predict(X).reshape(-1, 1)"
   ]
  },
  {
   "cell_type": "code",
   "execution_count": 66,
   "metadata": {},
   "outputs": [
    {
     "name": "stdout",
     "output_type": "stream",
     "text": [
      "[[1497  499]\n",
      " [ 494 1510]]\n"
     ]
    }
   ],
   "source": [
    "from sklearn.metrics import confusion_matrix, accuracy_score\n",
    "print(confusion_matrix(y, y_pred))"
   ]
  },
  {
   "cell_type": "code",
   "execution_count": 65,
   "metadata": {},
   "outputs": [
    {
     "name": "stdout",
     "output_type": "stream",
     "text": [
      "0.75175\n"
     ]
    }
   ],
   "source": [
    "print(accuracy_score(y, y_pred))"
   ]
  },
  {
   "cell_type": "code",
   "execution_count": 68,
   "metadata": {},
   "outputs": [
    {
     "data": {
      "text/plain": [
       "<AxesSubplot:>"
      ]
     },
     "execution_count": 68,
     "metadata": {},
     "output_type": "execute_result"
    },
    {
     "data": {
      "image/png": "[encoded data removed]",
      "text/plain": [
       "<Figure size 432x288 with 1 Axes>"
      ]
     },
     "metadata": {
      "needs_background": "light"
     },
     "output_type": "display_data"
    }
   ],
   "source": [
    "df['Quality'].hist()"
   ]
  }
 ],
 "metadata": {
  "kernelspec": {
   "display_name": "Python 3",
   "language": "python",
   "name": "python3"
  },
  "language_info": {
   "codemirror_mode": {
    "name": "ipython",
    "version": 3
   },
   "file_extension": ".py",
   "mimetype": "text/x-python",
   "name": "python",
   "nbconvert_exporter": "python",
   "pygments_lexer": "ipython3",
   "version": "3.10.12"
  }
 },
 "nbformat": 4,
 "nbformat_minor": 2
}
