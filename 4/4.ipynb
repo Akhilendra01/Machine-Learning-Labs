{
 "cells": [
  {
   "cell_type": "code",
   "execution_count": 1,
   "metadata": {},
   "outputs": [],
   "source": [
    "import numpy as np\n",
    "import matplotlib.pyplot as plt"
   ]
  },
  {
   "cell_type": "markdown",
   "metadata": {},
   "source": [
    "### Logistic Regression with Log Loss"
   ]
  },
  {
   "cell_type": "code",
   "execution_count": 30,
   "metadata": {},
   "outputs": [],
   "source": [
    "class LogisticRegressionLogLoss:\n",
    "    def __init__(self, eta:float, iter:int, weights:int|None, bias:int):\n",
    "        self.eta=eta\n",
    "        self.iter=iter\n",
    "        self.bias=bias\n",
    "        self.weights=weights\n",
    "\n",
    "    def sigmoid(self, z: np.array)->np.array:\n",
    "        return 1/(1+np.e**-z)\n",
    "    \n",
    "    def fit(self, x: np.array, y: np.array)->None:\n",
    "        n_sample, n_feat=x.shape\n",
    "        self.weights=np.zeros(n_feat)\n",
    "\n",
    "        for _ in range(self.iter):\n",
    "            z:np.array=np.dot(x, self.weights)+self.bias\n",
    "            y_pred:np.array=self.sigmoid(z)\n",
    "\n",
    "            dw:np.array=(1/n_sample)*np.dot(x.T, y_pred-y)\n",
    "            db:float=(1/n_sample)*np.sum(y_pred-y)\n",
    "\n",
    "            self.weights-=self.eta*dw\n",
    "            self.bias-=self.eta*db\n",
    "\n",
    "    def predict(self, x: np.array)-> np.array:\n",
    "        z:np.array=np.dot(x, self.weights)+self.bias\n",
    "        y_pred:np.array=self.sigmoid(z)\n",
    "        return np.array([1 if p > 0.5 else 0 for p in y_pred])\n"
   ]
  },
  {
   "cell_type": "markdown",
   "metadata": {},
   "source": [
    "### Logistic Regression MSE"
   ]
  },
  {
   "cell_type": "code",
   "execution_count": null,
   "metadata": {},
   "outputs": [],
   "source": [
    "class LogisticRegressionMSE:\n",
    "    def __init__(self, eta:float, iter:int, weights:int|None, bias:float):\n",
    "        self.eta=eta\n",
    "        self.iter=iter\n",
    "        self.bias=bias\n",
    "        self.weights=weights\n",
    "\n",
    "    def sigmoid(self, z: np.array)->np.array:\n",
    "        return 1/(1+np.e**-z)\n",
    "    \n",
    "    def fit(self, x: np.array, y: np.array)->None:\n",
    "        n_sample, n_feat=x.shape\n",
    "        self.weights=np.zeros(n_feat)\n",
    "\n",
    "        for _ in range(self.iter):\n",
    "            z:np.array=np.dot(x, self.weights)+self.bias\n",
    "            y_pred:np.array=self.sigmoid(z)\n",
    "\n",
    "            dw:int=(1/n_sample)*np.dot(x.T, y_pred-y)\n",
    "            db:int=(1/n_sample)*np.sum(y_pred-y)\n",
    "\n",
    "            self.weights-=self.eta*dw\n",
    "            self.bias-=self.eta*db\n",
    "\n",
    "    def predict(self, x: np.array)-> np.array:\n",
    "        z:np.array=np.dot(x, self.weights)+self.bias\n",
    "        y_pred:np.array=self.sigmoid(z)\n",
    "        return np.array([1 if p > 0.5 else 0 for p in y_pred])\n"
   ]
  },
  {
   "cell_type": "code",
   "execution_count": 31,
   "metadata": {},
   "outputs": [],
   "source": [
    "x=np.arange(8)\n",
    "x=x.reshape((len(x), 1))\n",
    "y=np.array([0, 0, 0, 0, 1, 1, 1, 1])\n",
    "\n",
    "reg=LogisticRegressionLogLoss(0.1, 1000, None, 0)\n",
    "reg.fit(x, y)"
   ]
  },
  {
   "cell_type": "code",
   "execution_count": 32,
   "metadata": {},
   "outputs": [
    {
     "name": "stdout",
     "output_type": "stream",
     "text": [
      "Predictions [0 0 0 0 1 1 1 1]\n"
     ]
    }
   ],
   "source": [
    "print(\"Predictions\", reg.predict(x))"
   ]
  },
  {
   "cell_type": "code",
   "execution_count": 33,
   "metadata": {},
   "outputs": [
    {
     "data": {
      "image/png": "[encoded data removed]",
      "text/plain": [
       "<Figure size 432x288 with 1 Axes>"
      ]
     },
     "metadata": {
      "needs_background": "light"
     },
     "output_type": "display_data"
    }
   ],
   "source": [
    "plt.scatter(x, y, color=\"blue\")\n",
    "plt.xlabel('x')\n",
    "plt.ylabel('y')\n",
    "px = np.linspace(np.min(x), np.max(x), 100).reshape(-1, 1)\n",
    "py=np.dot(px, reg.weights)+reg.bias\n",
    "plt.plot(px, reg.sigmoid(py), color=\"red\")\n",
    "plt.show()"
   ]
  },
  {
   "cell_type": "markdown",
   "metadata": {},
   "source": [
    "Desision tree ID3 4.5 CART , naive bayes classifier, comapre mse and log loss function, \n",
    "2. Check the convexity of least square error function by changing the weights while data remains same."
   ]
  }
 ],
 "metadata": {
  "kernelspec": {
   "display_name": "Python 3",
   "language": "python",
   "name": "python3"
  },
  "language_info": {
   "codemirror_mode": {
    "name": "ipython",
    "version": 3
   },
   "file_extension": ".py",
   "mimetype": "text/x-python",
   "name": "python",
   "nbconvert_exporter": "python",
   "pygments_lexer": "ipython3",
   "version": "3.10.12"
  }
 },
 "nbformat": 4,
 "nbformat_minor": 2
}
