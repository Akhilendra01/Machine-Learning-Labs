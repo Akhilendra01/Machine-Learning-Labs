{
 "cells": [
  {
   "cell_type": "code",
   "execution_count": 1,
   "metadata": {},
   "outputs": [],
   "source": [
    "import numpy as np\n",
    "import matplotlib.pyplot as plt"
   ]
  },
  {
   "cell_type": "code",
   "execution_count": 2,
   "metadata": {},
   "outputs": [],
   "source": [
    "x=np.arange(8)\n",
    "x=x.reshape((len(x), 1))\n",
    "y=np.array([0, 0, 0, 0, 1, 1, 1, 1])"
   ]
  },
  {
   "cell_type": "markdown",
   "metadata": {},
   "source": [
    "### Logistic Regression with Log Loss"
   ]
  },
  {
   "cell_type": "code",
   "execution_count": null,
   "metadata": {},
   "outputs": [],
   "source": [
    "class LogisticRegressionLogLoss:\n",
    "    def __init__(self, eta: int, iter: int, weights: np.array|None, bias: int|None):\n",
    "        self.eta=eta\n",
    "        self.iter=iter\n",
    "        self.weights=weights\n",
    "        self.bias=bias\n",
    "    \n",
    "    def sigmoid(self, z):\n",
    "        return 1/(1+np.e**-z)\n",
    "    \n",
    "    def fit(x: np.array, y: np.array)->None:\n",
    "        pass"
   ]
  },
  {
   "cell_type": "markdown",
   "metadata": {},
   "source": [
    "Desision tree ID3 4.5 CART , naive bayes classifier, comapre mse and log loss function, \n",
    "2. Check the convexity of least square error function by changing the weights while data remains same."
   ]
  }
 ],
 "metadata": {
  "kernelspec": {
   "display_name": "Python 3",
   "language": "python",
   "name": "python3"
  },
  "language_info": {
   "codemirror_mode": {
    "name": "ipython",
    "version": 3
   },
   "file_extension": ".py",
   "mimetype": "text/x-python",
   "name": "python",
   "nbconvert_exporter": "python",
   "pygments_lexer": "ipython3",
   "version": "3.10.12"
  }
 },
 "nbformat": 4,
 "nbformat_minor": 2
}
