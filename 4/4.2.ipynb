{
 "cells": [
  {
   "cell_type": "markdown",
   "metadata": {},
   "source": [
    "### Decision Tree"
   ]
  },
  {
   "cell_type": "code",
   "execution_count": 40,
   "metadata": {},
   "outputs": [],
   "source": [
    "import numpy as np\n",
    "import pandas as pd\n",
    "import matplotlib.pyplot as plt"
   ]
  },
  {
   "cell_type": "code",
   "execution_count": 96,
   "metadata": {},
   "outputs": [],
   "source": [
    "class Node:\n",
    "    def __init__(self, feature_id:int=None, threshold:float=None, info_gain:float=None, val:any=None, left: 'Node'=None, right: 'Node'=None)->None:\n",
    "        self.feature_id=feature_id\n",
    "        self.threshold=threshold\n",
    "        self.info_gain=info_gain\n",
    "        self.left, self.right=left, right\n",
    "        self.val=val\n",
    "\n",
    "class DecisionTree:\n",
    "    def __init__(self, min_splits: int, max_depth: int, mode:str):\n",
    "        self.root = None\n",
    "        self.min_splits = min_splits\n",
    "        self.max_depth = max_depth\n",
    "        self.mode=mode\n",
    "\n",
    "    def build(self, dataset: np.array, cur_depth: int = 0):\n",
    "        X: np.array = dataset[:, :-1]\n",
    "        y: np.array = dataset[:, -1]\n",
    "\n",
    "        n_samples, n_features = X.shape\n",
    "        if n_samples < self.min_splits or cur_depth > self.max_depth:\n",
    "            leaf_val = self.cal_leaf_val(y)\n",
    "            return Node(val=leaf_val)\n",
    "\n",
    "        best_split = self.get_best_split(dataset, n_features)\n",
    "        left_tree = self.build(best_split['left_data'], cur_depth + 1)\n",
    "        right_tree = self.build(best_split['right_data'], cur_depth + 1)\n",
    "\n",
    "        return Node(best_split['feature_id'], best_split['threshold'], best_split['info_gain'], None, left_tree,\n",
    "                    right_tree)\n",
    "\n",
    "    def get_best_split(self, dataset: np.array, n_features: int)->dict:\n",
    "        best_split: dict = {}\n",
    "        max_info_gain = -float('inf')\n",
    "\n",
    "        for feature_id in range(n_features):\n",
    "            for threshold in np.unique(dataset[:, feature_id]):\n",
    "                left_data, right_data = self.split(dataset, feature_id, threshold)\n",
    "\n",
    "                if len(left_data) <= 0 or len(right_data) <= 0:\n",
    "                    continue\n",
    "\n",
    "                info_gain = self.cal_info_gain(dataset[:, -1], left_data[:, -1], right_data[:, -1])\n",
    "\n",
    "                if max_info_gain < info_gain:\n",
    "                    max_info_gain = info_gain\n",
    "                    best_split['info_gain'] = info_gain\n",
    "                    best_split['threshold'] = threshold\n",
    "                    best_split['feature_id'] = feature_id\n",
    "                    best_split['left_data'] = left_data\n",
    "                    best_split['right_data'] = right_data\n",
    "\n",
    "        return best_split\n",
    "\n",
    "    def split(self, dataset: np.array, feature_id: int, threshold: float):\n",
    "        left_data = np.array([row for row in dataset if row[feature_id] <= threshold])\n",
    "        right_data = np.array([row for row in dataset if row[feature_id] > threshold])\n",
    "        return left_data, right_data\n",
    "\n",
    "    def cal_info_gain(self, dataset:np.array, left: np.array, right: np.array)-> float:\n",
    "        wl = len(left) / len(dataset)\n",
    "        wr = len(right) / len(dataset)\n",
    "        if self.mode=='entropy':\n",
    "            return self.cal_entropy(dataset) - wl * self.cal_entropy(left) - wr * self.cal_entropy(right)\n",
    "        else:\n",
    "            return self.cal_gini(dataset) - wl * self.cal_gini(left) - wr * self.cal_gini(right)\n",
    "\n",
    "    def cal_entropy(self, Y: np.array)->float:\n",
    "        entropy = 0\n",
    "        for cls in np.unique(Y):\n",
    "            p = len(Y[Y == cls]) / len(Y)\n",
    "            entropy += -p * np.log2(p)\n",
    "        return entropy\n",
    "\n",
    "    def cal_gini(self, Y: np.array)->float:\n",
    "        gini = 1\n",
    "        for cls in np.unique(Y):\n",
    "            p = len(Y[Y == cls]) / len(Y)\n",
    "            gini-=p**2\n",
    "        return gini\n",
    "\n",
    "    def cal_leaf_val(self, Y: np.array)->any:\n",
    "        Y = list(Y)\n",
    "        return max(Y, key=Y.count)\n",
    "\n",
    "    def fit(self, X, y):\n",
    "        dataset = np.concatenate((X, y.reshape(-1, 1)), axis=1)\n",
    "        self.root = self.build(dataset)\n",
    "\n",
    "    def predict(self, X):\n",
    "        return np.array([self.make_pred(x, self.root) for x in X])\n",
    "\n",
    "    def make_pred(self, x, node: Node):\n",
    "        if node.val is not None:\n",
    "            return node.val\n",
    "        if x[node.feature_id] <= node.threshold:\n",
    "            return self.make_pred(x, node.left)\n",
    "        return self.make_pred(x, node.right)\n"
   ]
  },
  {
   "cell_type": "code",
   "execution_count": 133,
   "metadata": {},
   "outputs": [],
   "source": [
    "df=pd.read_csv('Iris.csv')\n",
    "df.dropna()\n",
    "X = df.iloc[:, 1:-1].values\n",
    "Y = df.iloc[:, -1].values.reshape(-1, 1)\n",
    "\n",
    "classifier=DecisionTree(3, 5, 'gini')"
   ]
  },
  {
   "cell_type": "code",
   "execution_count": 134,
   "metadata": {},
   "outputs": [],
   "source": [
    "classifier.fit(X, Y)"
   ]
  },
  {
   "cell_type": "code",
   "execution_count": 135,
   "metadata": {},
   "outputs": [],
   "source": [
    "y_pred=classifier.predict(X)"
   ]
  },
  {
   "cell_type": "code",
   "execution_count": 136,
   "metadata": {},
   "outputs": [],
   "source": [
    "y_pred=y_pred.reshape(-1, 1)"
   ]
  },
  {
   "cell_type": "code",
   "execution_count": 138,
   "metadata": {},
   "outputs": [
    {
     "name": "stdout",
     "output_type": "stream",
     "text": [
      "[[50  0  0]\n",
      " [ 0 50  0]\n",
      " [ 0  0 50]]\n",
      "100.0 %\n"
     ]
    }
   ],
   "source": [
    "from sklearn.metrics import accuracy_score, confusion_matrix\n",
    "\n",
    "print(confusion_matrix(Y, y_pred))\n",
    "print(accuracy_score(Y, y_pred)*100, '%')\n"
   ]
  }
 ],
 "metadata": {
  "kernelspec": {
   "display_name": "Python 3",
   "language": "python",
   "name": "python3"
  },
  "language_info": {
   "codemirror_mode": {
    "name": "ipython",
    "version": 3
   },
   "file_extension": ".py",
   "mimetype": "text/x-python",
   "name": "python",
   "nbconvert_exporter": "python",
   "pygments_lexer": "ipython3",
   "version": "3.10.12"
  }
 },
 "nbformat": 4,
 "nbformat_minor": 2
}
