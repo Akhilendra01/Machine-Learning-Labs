{
 "cells": [
  {
   "cell_type": "markdown",
   "metadata": {},
   "source": [
    "## Implementation of performance metrics"
   ]
  },
  {
   "cell_type": "code",
   "execution_count": 3,
   "metadata": {},
   "outputs": [],
   "source": [
    "import numpy as np\n",
    "from numpy import array"
   ]
  },
  {
   "cell_type": "code",
   "execution_count": 22,
   "metadata": {},
   "outputs": [],
   "source": [
    "def confusion_matrix(y: array, y_pred: array)->(array, dict):\n",
    "    cls=np.unique(y)\n",
    "    n_classes=len(cls)\n",
    "    class_id={}\n",
    "    for i, c in enumerate(cls):\n",
    "        class_id[c]=i\n",
    "    mat=np.zeros((n_classes, n_classes), dtype=np.int64)\n",
    "    for i, c in enumerate(y):\n",
    "        mat[class_id[c]][class_id[y_pred[i]]]+=1\n",
    "\n",
    "    return (mat, class_id)"
   ]
  },
  {
   "cell_type": "code",
   "execution_count": 23,
   "metadata": {},
   "outputs": [],
   "source": [
    "def accuracy_score(y:array, y_pred:array)->float:\n",
    "    c:int=0\n",
    "    for i, cl in enumerate(y):\n",
    "        if cl==y_pred[i]:\n",
    "            c+=1\n",
    "    return c/len(y)"
   ]
  },
  {
   "cell_type": "code",
   "execution_count": null,
   "metadata": {},
   "outputs": [],
   "source": [
    "def r2_score(y:array, y_pred:array)->float:\n",
    "    pass"
   ]
  },
  {
   "cell_type": "code",
   "execution_count": 29,
   "metadata": {},
   "outputs": [],
   "source": [
    "def roc_score(y_true: array, y_pred: array)->float:\n",
    "    idx = np.argsort(y_pred)[::-1]\n",
    "    y_true_sorted = y_true[idx]\n",
    "    \n",
    "    total_positives = np.sum(y_true)\n",
    "    tp_count = 0\n",
    "    fp_count = 0\n",
    "    \n",
    "    prev_tp_count = 0\n",
    "    prev_fp_count = 0\n",
    "    \n",
    "    auc = 0\n",
    "    \n",
    "    for i in range(len(y_true_sorted)):\n",
    "        if y_true_sorted[i] == 1:\n",
    "            tp_count += 1\n",
    "        else:\n",
    "            fp_count += 1\n",
    "\n",
    "        tpr = tp_count / total_positives\n",
    "        fpr = fp_count / (len(y_true) - total_positives)\n",
    "        auc += 0.5 * (fpr - prev_fp_count) * (tpr + prev_tp_count)\n",
    "        prev_tp_count = tpr\n",
    "        prev_fp_count = fpr\n",
    "    \n",
    "    return auc"
   ]
  },
  {
   "cell_type": "code",
   "execution_count": 24,
   "metadata": {},
   "outputs": [],
   "source": [
    "y=array([0, 0, 0, 0, 1, 1, 1, 1])\n",
    "y_pred=array([0, 0, 1, 1, 0, 1, 1, 1])"
   ]
  },
  {
   "cell_type": "code",
   "execution_count": 25,
   "metadata": {},
   "outputs": [
    {
     "name": "stdout",
     "output_type": "stream",
     "text": [
      "{0: 0, 1: 1}\n",
      "[[2 2]\n",
      " [1 3]]\n"
     ]
    }
   ],
   "source": [
    "mat, mp=confusion_matrix(y, y_pred)\n",
    "print(mp)\n",
    "print(mat)"
   ]
  },
  {
   "cell_type": "code",
   "execution_count": 27,
   "metadata": {},
   "outputs": [
    {
     "name": "stdout",
     "output_type": "stream",
     "text": [
      "62.5 %\n"
     ]
    }
   ],
   "source": [
    "print(accuracy_score(y, y_pred)*100, \"%\")"
   ]
  },
  {
   "cell_type": "code",
   "execution_count": 30,
   "metadata": {},
   "outputs": [
    {
     "name": "stdout",
     "output_type": "stream",
     "text": [
      "0.875\n"
     ]
    }
   ],
   "source": [
    "print(roc_score(y, y_pred))"
   ]
  }
 ],
 "metadata": {
  "kernelspec": {
   "display_name": "Python 3",
   "language": "python",
   "name": "python3"
  },
  "language_info": {
   "codemirror_mode": {
    "name": "ipython",
    "version": 3
   },
   "file_extension": ".py",
   "mimetype": "text/x-python",
   "name": "python",
   "nbconvert_exporter": "python",
   "pygments_lexer": "ipython3",
   "version": "3.10.12"
  }
 },
 "nbformat": 4,
 "nbformat_minor": 2
}
